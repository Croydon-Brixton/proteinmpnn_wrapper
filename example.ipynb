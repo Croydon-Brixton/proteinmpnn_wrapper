{
 "cells": [
  {
   "cell_type": "code",
   "execution_count": 1,
   "metadata": {},
   "outputs": [
    {
     "name": "stdout",
     "output_type": "stream",
     "text": [
      "/rds/user/ked48/hpc-work/protein-diffusion/proteinmpnn_wrapper/src/proteinmpnn/constants.py\n"
     ]
    }
   ],
   "source": [
    "import proteinmpnn.run\n",
    "import proteinmpnn.utils.misc\n",
    "\n",
    "from proteinmpnn.run import load_protein_mpnn_model, set_seed, nll_score\n",
    "from proteinmpnn.data import BackboneSample, untokenise_sequence\n",
    "from proteinmpnn.utils.misc import find_files\n",
    "\n",
    "import numpy as np"
   ]
  },
  {
   "cell_type": "markdown",
   "metadata": {},
   "source": [
    "# Manual mode (more control)"
   ]
  },
  {
   "cell_type": "code",
   "execution_count": 2,
   "metadata": {},
   "outputs": [
    {
     "name": "stdout",
     "output_type": "stream",
     "text": [
      "2023-07-20 17:39:20,063 INFO:\n",
      "\tNumber of edges: 48 [in load_protein_mpnn_model at run.py:54]\n",
      "2023-07-20 17:39:20,063 INFO:\n",
      "\tTraining noise level: 0.2A [in load_protein_mpnn_model at run.py:56]\n"
     ]
    }
   ],
   "source": [
    "model = load_protein_mpnn_model(model_type=\"ca\")"
   ]
  },
  {
   "cell_type": "code",
   "execution_count": 3,
   "metadata": {},
   "outputs": [
    {
     "name": "stdout",
     "output_type": "stream",
     "text": [
      "2023-07-20 17:39:23,889 INFO:\n",
      "\tFound 2 files with extension .pdb in ./data. [in find_files at misc.py:43]\n"
     ]
    },
    {
     "ename": "NameError",
     "evalue": "name 'np' is not defined",
     "output_type": "error",
     "traceback": [
      "\u001b[0;31m---------------------------------------------------------------------------\u001b[0m",
      "\u001b[0;31mNameError\u001b[0m                                 Traceback (most recent call last)",
      "Cell \u001b[0;32mIn[3], line 6\u001b[0m\n\u001b[1;32m      3\u001b[0m backbones \u001b[39m=\u001b[39m [BackboneSample\u001b[39m.\u001b[39mload_any(f, ca_only\u001b[39m=\u001b[39m\u001b[39mTrue\u001b[39;00m) \u001b[39mfor\u001b[39;00m f \u001b[39min\u001b[39;00m pdb_files]\n\u001b[1;32m      5\u001b[0m \u001b[39m# ...add backbones from numpy files / torch files\u001b[39;00m\n\u001b[0;32m----> 6\u001b[0m backbones \u001b[39m+\u001b[39m\u001b[39m=\u001b[39m [BackboneSample(bb_coords\u001b[39m=\u001b[39mnp\u001b[39m.\u001b[39mrandom\u001b[39m.\u001b[39mrand(\u001b[39m10\u001b[39m, \u001b[39m3\u001b[39m), \n\u001b[1;32m      7\u001b[0m                              ca_only\u001b[39m=\u001b[39m\u001b[39mTrue\u001b[39;00m)\n\u001b[1;32m      8\u001b[0m             ]\n\u001b[1;32m     10\u001b[0m \u001b[39m# ... specify a sequence motif to be fixed (via res_mask -- 0's are fixed)\u001b[39;00m\n\u001b[1;32m     11\u001b[0m backbones \u001b[39m+\u001b[39m\u001b[39m=\u001b[39m [BackboneSample(bb_coords\u001b[39m=\u001b[39mnp\u001b[39m.\u001b[39mrandom\u001b[39m.\u001b[39mrand(\u001b[39m10\u001b[39m, \u001b[39m3\u001b[39m), \n\u001b[1;32m     12\u001b[0m                              ca_only\u001b[39m=\u001b[39m\u001b[39mTrue\u001b[39;00m, \n\u001b[1;32m     13\u001b[0m                              res_name\u001b[39m=\u001b[39m\u001b[39m\"\u001b[39m\u001b[39mMXXXACXGXX\u001b[39m\u001b[39m\"\u001b[39m, \n\u001b[1;32m     14\u001b[0m                              res_mask\u001b[39m=\u001b[39mnp\u001b[39m.\u001b[39marray([\u001b[39m0\u001b[39m, \u001b[39m1\u001b[39m, \u001b[39m1\u001b[39m, \u001b[39m1\u001b[39m, \u001b[39m0\u001b[39m, \u001b[39m0\u001b[39m, \u001b[39m1\u001b[39m, \u001b[39m0\u001b[39m, \u001b[39m1\u001b[39m, \u001b[39m1\u001b[39m]))\n\u001b[1;32m     15\u001b[0m             ]\n",
      "\u001b[0;31mNameError\u001b[0m: name 'np' is not defined"
     ]
    }
   ],
   "source": [
    "# ... add backbones from PDB files\n",
    "pdb_files = find_files(\"./data\", \".pdb\")  # Or numpy or torch objects\n",
    "backbones = [BackboneSample.load_any(f, ca_only=True) for f in pdb_files]\n",
    "\n",
    "# ...add backbones from numpy files / torch files\n",
    "backbones += [BackboneSample(bb_coords=np.random.rand(10, 3), \n",
    "                             ca_only=True)\n",
    "            ]\n",
    "                           \n",
    "# ... specify a sequence motif to be fixed (via res_mask -- 0's are fixed)\n",
    "backbones += [BackboneSample(bb_coords=np.random.rand(10, 3), \n",
    "                             ca_only=True, \n",
    "                             res_name=\"MXXXACXGXX\", \n",
    "                             res_mask=np.array([0, 1, 1, 1, 0, 0, 1, 0, 1, 1]))\n",
    "            ]\n",
    "\n",
    "backbones"
   ]
  },
  {
   "cell_type": "code",
   "execution_count": null,
   "metadata": {},
   "outputs": [],
   "source": [
    "with torch.inference_mode():\n",
    "    set_seed(39)\n",
    "\n",
    "    samples = [model.sample(\n",
    "        randn=torch.randn(1, backbone.n_residues), \n",
    "        **backbone.to_protein_mpnn_input(\"sampling\")) \n",
    "        for backbone in backbones\n",
    "    ]\n",
    "\n",
    "    scores = []\n",
    "    for sample, backbone in zip(samples, backbones):\n",
    "        inpt = backbone.to_protein_mpnn_input(\"scoring\")\n",
    "        inpt[\"decoding_order\"] = sample[\"decoding_order\"]\n",
    "        inpt[\"S\"] = sample[\"S\"]\n",
    "        log_probs = model(randn=torch.randn(1, backbone.n_residues), \n",
    "                      use_input_decoding_order=True, \n",
    "                      **inpt)\n",
    "        sample[\"nll_score\"] = _nll_score(sample[\"S\"], log_probs, mask=inpt[\"mask\"])\n",
    "        sample[\"prob\"] = torch.exp(-sample[\"nll_score\"])\n"
   ]
  },
  {
   "cell_type": "code",
   "execution_count": null,
   "metadata": {},
   "outputs": [
    {
     "name": "stdout",
     "output_type": "stream",
     "text": [
      "TLTLKQTIANQYIKAFERQRSDQCKKCVHPLTIWTVQGWERKREEMVQFVEDMMAKGISWEFQAYERIGVIYDYDAKRQADGVVSFDLYKIEVIEDVIPIIYGNHK\n",
      "tensor([0.0949])\n"
     ]
    }
   ],
   "source": [
    "# NOTE the fixed motif\n",
    "print(untokenise_sequence(samples[0][\"S\"]))\n",
    "print(samples[0][\"prob\"])"
   ]
  },
  {
   "cell_type": "code",
   "execution_count": null,
   "metadata": {},
   "outputs": [
    {
     "name": "stdout",
     "output_type": "stream",
     "text": [
      "DRRRKDLYNS\n",
      "tensor([0.0965])\n"
     ]
    }
   ],
   "source": [
    "\n",
    "# NOTE the fixed motif\n",
    "print(untokenise_sequence(samples[-2][\"S\"]))\n",
    "print(samples[-2][\"prob\"])"
   ]
  },
  {
   "cell_type": "code",
   "execution_count": null,
   "metadata": {},
   "outputs": [
    {
     "name": "stdout",
     "output_type": "stream",
     "text": [
      "MAYQACEGAD\n",
      "tensor([0.0395])\n"
     ]
    },
    {
     "data": {
      "text/plain": [
       "{'S': tensor([[10,  0, 19, 13,  0,  1,  3,  5,  0,  2]]),\n",
       " 'probs': tensor([[[0.0000, 0.0000, 0.0000, 0.0000, 0.0000, 0.0000, 0.0000, 0.0000,\n",
       "           0.0000, 0.0000, 0.0000, 0.0000, 0.0000, 0.0000, 0.0000, 0.0000,\n",
       "           0.0000, 0.0000, 0.0000, 0.0000, 0.0000],\n",
       "          [0.0866, 0.0116, 0.0780, 0.0471, 0.0160, 0.2236, 0.0251, 0.0112,\n",
       "           0.0391, 0.0266, 0.0115, 0.0414, 0.0781, 0.0329, 0.0384, 0.1258,\n",
       "           0.0597, 0.0189, 0.0100, 0.0186, 0.0000],\n",
       "          [0.0960, 0.0166, 0.0746, 0.0486, 0.0469, 0.1240, 0.0383, 0.0261,\n",
       "           0.0327, 0.0455, 0.0216, 0.0467, 0.0405, 0.0367, 0.0400, 0.0937,\n",
       "           0.0585, 0.0308, 0.0205, 0.0616, 0.0000],\n",
       "          [0.0065, 0.0045, 0.0059, 0.0044, 0.0063, 0.0075, 0.0041, 0.0041,\n",
       "           0.0050, 0.0059, 0.0040, 0.0057, 0.0058, 0.0048, 0.0052, 0.0064,\n",
       "           0.0058, 0.0045, 0.0046, 0.8991, 0.0000],\n",
       "          [0.0000, 0.0000, 0.0000, 0.0000, 0.0000, 0.0000, 0.0000, 0.0000,\n",
       "           0.0000, 0.0000, 0.0000, 0.0000, 0.0000, 0.0000, 0.0000, 0.0000,\n",
       "           0.0000, 0.0000, 0.0000, 0.0000, 0.0000],\n",
       "          [0.0000, 0.0000, 0.0000, 0.0000, 0.0000, 0.0000, 0.0000, 0.0000,\n",
       "           0.0000, 0.0000, 0.0000, 0.0000, 0.0000, 0.0000, 0.0000, 0.0000,\n",
       "           0.0000, 0.0000, 0.0000, 0.0000, 0.0000],\n",
       "          [0.0835, 0.0155, 0.0599, 0.0574, 0.0444, 0.1061, 0.0257, 0.0344,\n",
       "           0.0456, 0.0634, 0.0192, 0.0319, 0.0983, 0.0350, 0.0476, 0.0785,\n",
       "           0.0553, 0.0454, 0.0159, 0.0370, 0.0000],\n",
       "          [0.0000, 0.0000, 0.0000, 0.0000, 0.0000, 0.0000, 0.0000, 0.0000,\n",
       "           0.0000, 0.0000, 0.0000, 0.0000, 0.0000, 0.0000, 0.0000, 0.0000,\n",
       "           0.0000, 0.0000, 0.0000, 0.0000, 0.0000],\n",
       "          [0.0620, 0.0132, 0.2636, 0.0507, 0.0480, 0.0589, 0.0275, 0.0289,\n",
       "           0.0358, 0.0503, 0.0166, 0.0393, 0.0301, 0.0293, 0.0309, 0.0551,\n",
       "           0.0422, 0.0352, 0.0256, 0.0568, 0.0000],\n",
       "          [0.0901, 0.0244, 0.0434, 0.0287, 0.0957, 0.0930, 0.0346, 0.0395,\n",
       "           0.0228, 0.0761, 0.0288, 0.0302, 0.0466, 0.0236, 0.0298, 0.0562,\n",
       "           0.0466, 0.0457, 0.0399, 0.1042, 0.0000]]]),\n",
       " 'decoding_order': tensor([[0, 5, 7, 4, 2, 9, 8, 1, 3, 6]]),\n",
       " 'nll_score': tensor([3.2304]),\n",
       " 'prob': tensor([0.0395])}"
      ]
     },
     "execution_count": 208,
     "metadata": {},
     "output_type": "execute_result"
    }
   ],
   "source": [
    "# NOTE the fixed motif\n",
    "print(untokenise_sequence(samples[-1][\"S\"]))\n",
    "print(samples[-1][\"prob\"])\n",
    "samples[-1]"
   ]
  },
  {
   "cell_type": "markdown",
   "metadata": {},
   "source": [
    "# One-function call"
   ]
  },
  {
   "cell_type": "code",
   "execution_count": null,
   "metadata": {},
   "outputs": [],
   "source": [
    "# TODO (wrap the above in a function)"
   ]
  }
 ],
 "metadata": {
  "kernelspec": {
   "display_name": "Python 3",
   "language": "python",
   "name": "python3"
  },
  "language_info": {
   "codemirror_mode": {
    "name": "ipython",
    "version": 3
   },
   "file_extension": ".py",
   "mimetype": "text/x-python",
   "name": "python",
   "nbconvert_exporter": "python",
   "pygments_lexer": "ipython3",
   "version": "3.9.16"
  },
  "orig_nbformat": 4
 },
 "nbformat": 4,
 "nbformat_minor": 2
}
