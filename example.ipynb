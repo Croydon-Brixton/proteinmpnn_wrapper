{
 "cells": [
  {
   "cell_type": "code",
   "execution_count": 1,
   "metadata": {},
   "outputs": [],
   "source": [
    "import proteinmpnn.run\n",
    "import proteinmpnn.utils.misc\n",
    "\n",
    "from proteinmpnn.run import load_protein_mpnn_model, design_sequences, untokenise_sequence\n",
    "from proteinmpnn.utils.misc import find_files"
   ]
  },
  {
   "cell_type": "markdown",
   "metadata": {},
   "source": [
    "# Manual mode (more control)"
   ]
  },
  {
   "cell_type": "code",
   "execution_count": 2,
   "metadata": {},
   "outputs": [
    {
     "name": "stdout",
     "output_type": "stream",
     "text": [
      "2023-07-16 21:11:43,601 INFO:\n",
      "\tNumber of edges: 48 [in load_protein_mpnn_model at run.py:100]\n",
      "2023-07-16 21:11:43,601 INFO:\n",
      "\tTraining noise level: 0.2A [in load_protein_mpnn_model at run.py:102]\n",
      "2023-07-16 21:11:43,601 INFO:\n",
      "\tTraining noise level: 0.2A [in load_protein_mpnn_model at run.py:102]\n"
     ]
    }
   ],
   "source": [
    "model = load_protein_mpnn_model(model_type=\"ca\")"
   ]
  },
  {
   "cell_type": "code",
   "execution_count": 3,
   "metadata": {},
   "outputs": [
    {
     "name": "stdout",
     "output_type": "stream",
     "text": [
      "2023-07-16 21:11:43,681 INFO:\n",
      "\tFound 2 files with extension .pdb in ./data. [in find_files at misc.py:43]\n"
     ]
    }
   ],
   "source": [
    "backbones = find_files(\"./data\", \".pdb\")  # Or numpy or torch objects"
   ]
  },
  {
   "cell_type": "code",
   "execution_count": 4,
   "metadata": {},
   "outputs": [],
   "source": [
    "samples = design_sequences(backbones, model, num_seq_per_target=3, compute_scores=True)"
   ]
  },
  {
   "cell_type": "code",
   "execution_count": 5,
   "metadata": {},
   "outputs": [
    {
     "data": {
      "text/plain": [
       "'MLPPEEQLALDFIKALEKADPELAKKVVGEDTELEVNGKKFKGEEIVEFVKELKEKGVKFKLKSWRWEGDKLVFDMEVEKDGKKEKVKVTITVKDGKIAKIVIEKK'"
      ]
     },
     "execution_count": 5,
     "metadata": {},
     "output_type": "execute_result"
    }
   ],
   "source": [
    "untokenise_sequence(samples[0][\"S\"])"
   ]
  },
  {
   "cell_type": "code",
   "execution_count": 6,
   "metadata": {},
   "outputs": [
    {
     "data": {
      "text/plain": [
       "tensor([0.3781])"
      ]
     },
     "execution_count": 6,
     "metadata": {},
     "output_type": "execute_result"
    }
   ],
   "source": [
    "samples[0][\"prob\"]"
   ]
  }
 ],
 "metadata": {
  "kernelspec": {
   "display_name": "Python 3",
   "language": "python",
   "name": "python3"
  },
  "language_info": {
   "codemirror_mode": {
    "name": "ipython",
    "version": 3
   },
   "file_extension": ".py",
   "mimetype": "text/x-python",
   "name": "python",
   "nbconvert_exporter": "python",
   "pygments_lexer": "ipython3",
   "version": "3.9.16"
  },
  "orig_nbformat": 4
 },
 "nbformat": 4,
 "nbformat_minor": 2
}
