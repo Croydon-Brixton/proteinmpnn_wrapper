{
 "cells": [
  {
   "cell_type": "code",
   "execution_count": 1,
   "metadata": {},
   "outputs": [],
   "source": [
    "import proteinmpnn.run\n",
    "import proteinmpnn.utils.misc\n",
    "\n",
    "from proteinmpnn.run import load_protein_mpnn_model, set_seed, nll_score\n",
    "from proteinmpnn.data import BackboneSample, untokenise_sequence\n",
    "from proteinmpnn.utils.misc import find_files\n",
    "\n",
    "import numpy as np\n",
    "import torch\n",
    "\n",
    "DEVICE = \"cpu\""
   ]
  },
  {
   "cell_type": "markdown",
   "metadata": {},
   "source": [
    "# Manual mode (more control)"
   ]
  },
  {
   "cell_type": "code",
   "execution_count": 2,
   "metadata": {},
   "outputs": [
    {
     "name": "stdout",
     "output_type": "stream",
     "text": [
      "2024-04-29 15:58:24,116 INFO:\n",
      "\tNumber of edges: 48 [in load_protein_mpnn_model at run.py:57]\n",
      "2024-04-29 15:58:24,117 INFO:\n",
      "\tTraining noise level: 0.2A [in load_protein_mpnn_model at run.py:59]\n",
      "2024-04-29 15:58:24,117 INFO:\n",
      "\tTraining noise level: 0.2A [in load_protein_mpnn_model at run.py:59]\n"
     ]
    }
   ],
   "source": [
    "model = load_protein_mpnn_model(model_type=\"ca\", device=DEVICE)"
   ]
  },
  {
   "cell_type": "code",
   "execution_count": 3,
   "metadata": {},
   "outputs": [
    {
     "name": "stdout",
     "output_type": "stream",
     "text": [
      "2024-04-29 15:58:24,192 INFO:\n",
      "\tFound 2 files with extension .pdb in ./data. [in find_files at misc.py:43]\n"
     ]
    },
    {
     "data": {
      "text/plain": [
       "[BackboneSample(n_atoms=106, n_residues=106, ca_only=True),\n",
       " BackboneSample(n_atoms=68, n_residues=68, ca_only=True),\n",
       " BackboneSample(n_atoms=10, n_residues=10, ca_only=True),\n",
       " BackboneSample(n_atoms=10, n_residues=10, ca_only=True)]"
      ]
     },
     "execution_count": 3,
     "metadata": {},
     "output_type": "execute_result"
    }
   ],
   "source": [
    "# ... add backbones from PDB files\n",
    "pdb_files = find_files(\"./data\", \".pdb\")  # Or numpy or torch objects\n",
    "backbones = [BackboneSample.load_any(f, ca_only=True) for f in pdb_files]\n",
    "\n",
    "# ...add backbones from numpy files / torch files\n",
    "backbones += [BackboneSample(bb_coords=np.random.rand(10, 3), \n",
    "                             ca_only=True)\n",
    "            ]\n",
    "                           \n",
    "# ... specify a sequence motif to be fixed (via res_mask -- 0's are fixed)\n",
    "backbones += [BackboneSample(bb_coords=np.random.rand(10, 3), \n",
    "                             ca_only=True, \n",
    "                             res_name=\"MXXXACXGXX\", \n",
    "                             res_mask=np.array([0, 1, 1, 1, 0, 0, 1, 0, 1, 1]))\n",
    "            ]\n",
    "\n",
    "backbones"
   ]
  },
  {
   "cell_type": "code",
   "execution_count": 6,
   "metadata": {},
   "outputs": [],
   "source": [
    "with torch.inference_mode():\n",
    "    set_seed(39)\n",
    "\n",
    "    samples = [model.sample(\n",
    "        randn=torch.randn(1, backbone.n_residues), \n",
    "        **backbone.to_protein_mpnn_input(\"sampling\", device=DEVICE)) \n",
    "        for backbone in backbones\n",
    "    ]\n",
    "\n",
    "    scores = []\n",
    "    for sample, backbone in zip(samples, backbones):\n",
    "        inpt = backbone.to_protein_mpnn_input(\"scoring\", device=DEVICE)\n",
    "        inpt[\"decoding_order\"] = sample[\"decoding_order\"]\n",
    "        inpt[\"S\"] = sample[\"S\"]\n",
    "        log_probs = model(randn=torch.randn(1, backbone.n_residues), \n",
    "                      use_input_decoding_order=True, \n",
    "                      **inpt)\n",
    "        sample[\"nll_score\"] = nll_score(sample[\"S\"], log_probs, mask=inpt[\"mask\"])\n",
    "        sample[\"prob\"] = torch.exp(-sample[\"nll_score\"])\n"
   ]
  },
  {
   "cell_type": "code",
   "execution_count": 7,
   "metadata": {},
   "outputs": [
    {
     "name": "stdout",
     "output_type": "stream",
     "text": [
      "TLTLKQTIANQYIKAFERQRSDQCKKCVHPLTIWTVQGWERKREEMVQFVEDMMAKGISWEFQAYERIGVIYDYDAKRQADGVVSFDLYKIEVIEDVIPIIYGNHK\n",
      "tensor([0.0949])\n"
     ]
    }
   ],
   "source": [
    "# NOTE the fixed motif\n",
    "print(untokenise_sequence(samples[0][\"S\"]))\n",
    "print(samples[0][\"prob\"])"
   ]
  },
  {
   "cell_type": "code",
   "execution_count": 8,
   "metadata": {},
   "outputs": [
    {
     "name": "stdout",
     "output_type": "stream",
     "text": [
      "SSPWRKKQSS\n",
      "tensor([0.0677])\n"
     ]
    }
   ],
   "source": [
    "\n",
    "# NOTE the fixed motif\n",
    "print(untokenise_sequence(samples[-2][\"S\"]))\n",
    "print(samples[-2][\"prob\"])"
   ]
  },
  {
   "cell_type": "code",
   "execution_count": 9,
   "metadata": {},
   "outputs": [
    {
     "name": "stdout",
     "output_type": "stream",
     "text": [
      "MQSSACAGYG\n",
      "tensor([0.0589])\n"
     ]
    },
    {
     "data": {
      "text/plain": [
       "{'S': tensor([[10, 13, 15, 15,  0,  1,  0,  5, 19,  5]]),\n",
       " 'probs': tensor([[[0.0000, 0.0000, 0.0000, 0.0000, 0.0000, 0.0000, 0.0000, 0.0000,\n",
       "           0.0000, 0.0000, 0.0000, 0.0000, 0.0000, 0.0000, 0.0000, 0.0000,\n",
       "           0.0000, 0.0000, 0.0000, 0.0000, 0.0000],\n",
       "          [0.0853, 0.0120, 0.0729, 0.0656, 0.0258, 0.0992, 0.0292, 0.0227,\n",
       "           0.0495, 0.0447, 0.0139, 0.0509, 0.0720, 0.0418, 0.0461, 0.1256,\n",
       "           0.0719, 0.0351, 0.0120, 0.0238, 0.0000],\n",
       "          [0.1103, 0.0138, 0.0790, 0.0694, 0.0352, 0.0955, 0.0332, 0.0242,\n",
       "           0.0458, 0.0536, 0.0212, 0.0503, 0.0472, 0.0475, 0.0474, 0.0885,\n",
       "           0.0527, 0.0356, 0.0167, 0.0329, 0.0000],\n",
       "          [0.0868, 0.0227, 0.0710, 0.0560, 0.0419, 0.0959, 0.0282, 0.0391,\n",
       "           0.0396, 0.0710, 0.0227, 0.0460, 0.0622, 0.0374, 0.0341, 0.0865,\n",
       "           0.0605, 0.0487, 0.0171, 0.0327, 0.0000],\n",
       "          [0.0000, 0.0000, 0.0000, 0.0000, 0.0000, 0.0000, 0.0000, 0.0000,\n",
       "           0.0000, 0.0000, 0.0000, 0.0000, 0.0000, 0.0000, 0.0000, 0.0000,\n",
       "           0.0000, 0.0000, 0.0000, 0.0000, 0.0000],\n",
       "          [0.0000, 0.0000, 0.0000, 0.0000, 0.0000, 0.0000, 0.0000, 0.0000,\n",
       "           0.0000, 0.0000, 0.0000, 0.0000, 0.0000, 0.0000, 0.0000, 0.0000,\n",
       "           0.0000, 0.0000, 0.0000, 0.0000, 0.0000],\n",
       "          [0.0683, 0.0170, 0.0760, 0.0575, 0.0324, 0.0943, 0.0285, 0.0311,\n",
       "           0.0508, 0.0683, 0.0200, 0.0608, 0.0508, 0.0417, 0.0518, 0.1045,\n",
       "           0.0625, 0.0396, 0.0136, 0.0305, 0.0000],\n",
       "          [0.0000, 0.0000, 0.0000, 0.0000, 0.0000, 0.0000, 0.0000, 0.0000,\n",
       "           0.0000, 0.0000, 0.0000, 0.0000, 0.0000, 0.0000, 0.0000, 0.0000,\n",
       "           0.0000, 0.0000, 0.0000, 0.0000, 0.0000],\n",
       "          [0.0805, 0.0132, 0.0806, 0.0852, 0.0234, 0.0676, 0.0269, 0.0354,\n",
       "           0.0595, 0.0616, 0.0139, 0.0480, 0.0807, 0.0437, 0.0541, 0.0813,\n",
       "           0.0617, 0.0486, 0.0114, 0.0228, 0.0000],\n",
       "          [0.1193, 0.0216, 0.0601, 0.0503, 0.0412, 0.0867, 0.0304, 0.0287,\n",
       "           0.0272, 0.0611, 0.0223, 0.0421, 0.0469, 0.0370, 0.0332, 0.1293,\n",
       "           0.0639, 0.0387, 0.0178, 0.0424, 0.0000]]]),\n",
       " 'decoding_order': tensor([[0, 7, 4, 5, 2, 8, 3, 6, 1, 9]]),\n",
       " 'nll_score': tensor([2.8311]),\n",
       " 'prob': tensor([0.0589])}"
      ]
     },
     "execution_count": 9,
     "metadata": {},
     "output_type": "execute_result"
    }
   ],
   "source": [
    "# NOTE the fixed motif\n",
    "print(untokenise_sequence(samples[-1][\"S\"]))\n",
    "print(samples[-1][\"prob\"])\n",
    "samples[-1]"
   ]
  },
  {
   "cell_type": "markdown",
   "metadata": {},
   "source": [
    "# One-function call"
   ]
  },
  {
   "cell_type": "code",
   "execution_count": null,
   "metadata": {},
   "outputs": [],
   "source": [
    "# TODO (wrap the above into a single function)"
   ]
  }
 ],
 "metadata": {
  "kernelspec": {
   "display_name": "Python 3",
   "language": "python",
   "name": "python3"
  },
  "language_info": {
   "codemirror_mode": {
    "name": "ipython",
    "version": 3
   },
   "file_extension": ".py",
   "mimetype": "text/x-python",
   "name": "python",
   "nbconvert_exporter": "python",
   "pygments_lexer": "ipython3",
   "version": "3.10.13"
  },
  "orig_nbformat": 4
 },
 "nbformat": 4,
 "nbformat_minor": 2
}
